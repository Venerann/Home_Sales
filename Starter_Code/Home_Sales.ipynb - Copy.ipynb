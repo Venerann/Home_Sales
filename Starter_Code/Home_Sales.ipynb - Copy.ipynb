{
 "cells": [
  {
   "cell_type": "code",
   "execution_count": 3,
   "metadata": {},
   "outputs": [
    {
     "ename": "ModuleNotFoundError",
     "evalue": "No module named 'analysis_queries'",
     "output_type": "error",
     "traceback": [
      "\u001b[1;31m---------------------------------------------------------------------------\u001b[0m",
      "\u001b[1;31mModuleNotFoundError\u001b[0m                       Traceback (most recent call last)",
      "\u001b[1;32mc:\\Users\\Sebastian\\GitHub\\Home_Sales\\Starter_Code\\Home_Sales.ipynb - Copy.ipynb Cell 1\u001b[0m line \u001b[0;36m3\n\u001b[0;32m      <a href='vscode-notebook-cell:/c%3A/Users/Sebastian/GitHub/Home_Sales/Starter_Code/Home_Sales.ipynb%20-%20Copy.ipynb#W0sZmlsZQ%3D%3D?line=0'>1</a>\u001b[0m \u001b[39mfrom\u001b[39;00m \u001b[39mpyspark\u001b[39;00m\u001b[39m.\u001b[39;00m\u001b[39msql\u001b[39;00m \u001b[39mimport\u001b[39;00m SparkSession\n\u001b[0;32m      <a href='vscode-notebook-cell:/c%3A/Users/Sebastian/GitHub/Home_Sales/Starter_Code/Home_Sales.ipynb%20-%20Copy.ipynb#W0sZmlsZQ%3D%3D?line=1'>2</a>\u001b[0m \u001b[39mfrom\u001b[39;00m \u001b[39mpyspark\u001b[39;00m\u001b[39m.\u001b[39;00m\u001b[39msql\u001b[39;00m\u001b[39m.\u001b[39;00m\u001b[39mfunctions\u001b[39;00m \u001b[39mimport\u001b[39;00m avg\n\u001b[1;32m----> <a href='vscode-notebook-cell:/c%3A/Users/Sebastian/GitHub/Home_Sales/Starter_Code/Home_Sales.ipynb%20-%20Copy.ipynb#W0sZmlsZQ%3D%3D?line=2'>3</a>\u001b[0m \u001b[39mfrom\u001b[39;00m \u001b[39manalysis_queries\u001b[39;00m \u001b[39mimport\u001b[39;00m run_analysis_queries\n\u001b[0;32m      <a href='vscode-notebook-cell:/c%3A/Users/Sebastian/GitHub/Home_Sales/Starter_Code/Home_Sales.ipynb%20-%20Copy.ipynb#W0sZmlsZQ%3D%3D?line=3'>4</a>\u001b[0m \u001b[39mfrom\u001b[39;00m \u001b[39mcache_operations\u001b[39;00m \u001b[39mimport\u001b[39;00m cache_table, check_cached_tables, uncache_table\n\u001b[0;32m      <a href='vscode-notebook-cell:/c%3A/Users/Sebastian/GitHub/Home_Sales/Starter_Code/Home_Sales.ipynb%20-%20Copy.ipynb#W0sZmlsZQ%3D%3D?line=4'>5</a>\u001b[0m \u001b[39mfrom\u001b[39;00m \u001b[39mparquet_operations\u001b[39;00m \u001b[39mimport\u001b[39;00m partition_and_create_temp_table\n",
      "\u001b[1;31mModuleNotFoundError\u001b[0m: No module named 'analysis_queries'"
     ]
    }
   ],
   "source": [
    "from pyspark.sql import SparkSession\n",
    "from pyspark.sql.functions import avg\n",
    "from analysis_queries import run_analysis_queries\n",
    "from cache_operations import cache_table, check_cached_tables, uncache_table\n",
    "from parquet_operations import partition_and_create_temp_table\n",
    "import os\n",
    "\n",
    "# Set the working directory\n",
    "os.chdir(\"C:\\\\Users\\\\Sebastian\\\\GitHub\\\\Home_Sales\\\\Starter_Code\")\n",
    "\n",
    "# Create a Spark session\n",
    "spark = SparkSession.builder.appName(\"HomeSalesAnalysis\").getOrCreate()\n",
    "\n",
    "# Read the home_sales_revised.csv data into a Spark DataFrame\n",
    "file_path = \"path/to/home_sales_revised.csv\"  # Replace with the actual path\n",
    "home_sales_data = spark.read.format(\"csv\").option(\"header\", \"true\").load(file_path)\n",
    "\n",
    "# Create a temporary table called home_sales\n",
    "home_sales_data.createOrReplaceTempView(\"home_sales\")\n",
    "\n",
    "# Run analysis queries\n",
    "run_analysis_queries(spark)\n",
    "\n",
    "# Cache your temporary table home_sales\n",
    "cache_table(spark, \"home_sales\")\n",
    "\n",
    "# Check if your temporary table is cached\n",
    "check_cached_tables(spark)\n",
    "\n",
    "# Partition by the \"date_built\" field on the formatted parquet home sales data.\n",
    "partitioned_file_path = \"path/to/partitioned_home_sales.parquet\"  # Replace with the actual path\n",
    "partition_and_create_temp_table(spark, home_sales_data, partitioned_file_path)\n",
    "\n",
    "# Uncache the home_sales temporary table.\n",
    "uncache_table(spark, \"home_sales\")\n",
    "\n",
    "# Stop the Spark session\n",
    "spark.stop()\n"
   ]
  },
  {
   "cell_type": "code",
   "execution_count": null,
   "metadata": {},
   "outputs": [],
   "source": [
    "def run_analysis_queries(spark):\n",
    "    # Add the SparkSQL queries for analysis here\n",
    "    # ...\n",
    "\n",
    "    # Example:\n",
    "    query = \"\"\"\n",
    "    SELECT year, AVG(price) as avg_price\n",
    "    FROM home_sales\n",
    "    WHERE bedrooms = 4\n",
    "    GROUP BY year\n",
    "    \"\"\"\n",
    "    result = spark.sql(query)\n",
    "    result.show()\n"
   ]
  },
  {
   "cell_type": "code",
   "execution_count": null,
   "metadata": {},
   "outputs": [],
   "source": [
    "def cache_table(spark, table_name):\n",
    "    spark.sql(f\"CACHE TABLE {table_name}\")\n",
    "\n",
    "def check_cached_tables(spark):\n",
    "    cached_tables = spark.sql(\"SHOW TABLES\")\n",
    "    cached_tables.show()\n",
    "    \n",
    "def uncache_table(spark, table_name):\n",
    "    spark.sql(f\"UNCACHE TABLE {table_name}\")\n"
   ]
  },
  {
   "cell_type": "code",
   "execution_count": null,
   "metadata": {},
   "outputs": [],
   "source": [
    "def partition_and_create_temp_table(spark, data_frame, file_path):\n",
    "    # Partition by the \"date_built\" field on the formatted parquet home sales data.\n",
    "    data_frame.write.partitionBy(\"date_built\").mode(\"overwrite\").parquet(file_path)\n",
    "\n",
    "    # Create a temporary table for the parquet data.\n",
    "    parquet_data = spark.read.parquet(file_path)\n",
    "    parquet_data.createOrReplaceTempView(\"parquet_home_sales\")\n"
   ]
  }
 ],
 "metadata": {
  "colab": {
   "collapsed_sections": [],
   "name": "Copy of Home_Sales_solution.ipynb",
   "provenance": []
  },
  "kernelspec": {
   "display_name": "Python 3 (ipykernel)",
   "language": "python",
   "name": "python3"
  },
  "language_info": {
   "codemirror_mode": {
    "name": "ipython",
    "version": 3
   },
   "file_extension": ".py",
   "mimetype": "text/x-python",
   "name": "python",
   "nbconvert_exporter": "python",
   "pygments_lexer": "ipython3",
   "version": "3.12.0"
  },
  "nteract": {
   "version": "0.28.0"
  }
 },
 "nbformat": 4,
 "nbformat_minor": 1
}
